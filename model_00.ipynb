{
 "cells": [
  {
   "cell_type": "code",
   "execution_count": 18,
   "id": "50c68a47",
   "metadata": {},
   "outputs": [
    {
     "name": "stdout",
     "output_type": "stream",
     "text": [
      "Num GPUs Available:  0\n"
     ]
    }
   ],
   "source": [
    "import tensorflow as tf\n",
    "print(\"Num GPUs Available: \", len(tf.config.list_physical_devices('GPU')))\n",
    "import tensorflow_datasets as tfds\n",
    "import numpy as np\n",
    "\n",
    "# load the Tiny Shakespeare dataset\n",
    "dataset, info = tfds.load('tiny_shakespeare', with_info=True, as_supervised=False)"
   ]
  },
  {
   "cell_type": "code",
   "execution_count": 6,
   "id": "d0a4cda6",
   "metadata": {},
   "outputs": [],
   "source": [
    "# get the text from the dataset\n",
    "text = next(iter(dataset['train']))['text'].numpy().decode('utf-8')\n",
    "\n",
    "# create a mapping from unique characters to indices\n",
    "vocab = sorted(set(text))\n",
    "char2idx = {char: idx for idx, char in enumerate(vocab)}\n",
    "idx2char = np.array(vocab)\n",
    "\n",
    "# numerically represent the characters\n",
    "text_as_int = np.array([char2idx[c] for c in text])\n",
    "\n",
    "# create training examples and targets\n",
    "seq_length = 100\n",
    "examples_per_epoch = len(text) // (seq_length + 1)\n",
    "\n",
    "# create training sequences\n",
    "char_dataset = tf.data.Dataset.from_tensor_slices(text_as_int)\n",
    "\n",
    "sequences = char_dataset.batch(seq_length + 1, drop_remainder=True)"
   ]
  },
  {
   "cell_type": "code",
   "execution_count": 7,
   "id": "3e6cd4b3",
   "metadata": {},
   "outputs": [],
   "source": [
    "def split_input_target(chunk):\n",
    "    input_text = chunk[:-1]\n",
    "    target_text = chunk[1:]\n",
    "    return input_text, target_text\n",
    "\n",
    "dataset = sequences.map(split_input_target)"
   ]
  },
  {
   "cell_type": "code",
   "execution_count": 8,
   "id": "7d03cb13",
   "metadata": {},
   "outputs": [],
   "source": [
    "# batch size and buffer size\n",
    "BATCH_SIZE = 64\n",
    "BUFFER_SIZE = 10000\n",
    "\n",
    "dataset = (\n",
    "    dataset\n",
    "    .shuffle(BUFFER_SIZE)\n",
    "    .batch(BATCH_SIZE, drop_remainder=True)\n",
    "    .prefetch(tf.data.experimental.AUTOTUNE)\n",
    ")"
   ]
  },
  {
   "cell_type": "code",
   "execution_count": 12,
   "id": "68693a03",
   "metadata": {},
   "outputs": [],
   "source": [
    "# length of the vocabulary\n",
    "vocab_size = len(vocab)\n",
    "\n",
    "# the embedding dimension\n",
    "embedding_dim = 256\n",
    "\n",
    "# number of RNN units\n",
    "rnn_units = 1024\n",
    "\n",
    "def build_model(vocab_size, embedding_dim, rnn_units, batch_size=None):\n",
    "    model = tf.keras.Sequential([\n",
    "        tf.keras.layers.Input(batch_shape=(batch_size, None)),\n",
    "        tf.keras.layers.Embedding(vocab_size, embedding_dim),\n",
    "        tf.keras.layers.LSTM(rnn_units, return_sequences=True, stateful=True, recurrent_initializer='glorot_uniform'),\n",
    "        tf.keras.layers.Dense(vocab_size)\n",
    "    ])\n",
    "    return model\n",
    "\n",
    "model = build_model(vocab_size, embedding_dim, rnn_units, BATCH_SIZE)"
   ]
  },
  {
   "cell_type": "code",
   "execution_count": 13,
   "id": "a518e323",
   "metadata": {},
   "outputs": [],
   "source": [
    "def loss(labels, logits):\n",
    "    return tf.keras.losses.sparse_categorical_crossentropy(labels, logits, from_logits=True)\n",
    "\n",
    "model.compile(optimizer='adam', loss=loss)"
   ]
  },
  {
   "cell_type": "code",
   "execution_count": null,
   "id": "c24d94ae",
   "metadata": {},
   "outputs": [
    {
     "name": "stdout",
     "output_type": "stream",
     "text": [
      "Epoch 1/5\n",
      "\u001b[1m155/155\u001b[0m \u001b[32m━━━━━━━━━━━━━━━━━━━━\u001b[0m\u001b[37m\u001b[0m \u001b[1m238s\u001b[0m 2s/step - loss: 1.9471\n",
      "Epoch 2/5\n",
      "\u001b[1m155/155\u001b[0m \u001b[32m━━━━━━━━━━━━━━━━━━━━\u001b[0m\u001b[37m\u001b[0m \u001b[1m238s\u001b[0m 2s/step - loss: 1.9471\n",
      "Epoch 2/5\n",
      "\u001b[1m155/155\u001b[0m \u001b[32m━━━━━━━━━━━━━━━━━━━━\u001b[0m\u001b[37m\u001b[0m \u001b[1m228s\u001b[0m 1s/step - loss: 1.6595\n",
      "Epoch 3/5\n",
      "\u001b[1m155/155\u001b[0m \u001b[32m━━━━━━━━━━━━━━━━━━━━\u001b[0m\u001b[37m\u001b[0m \u001b[1m228s\u001b[0m 1s/step - loss: 1.6595\n",
      "Epoch 3/5\n",
      "\u001b[1m155/155\u001b[0m \u001b[32m━━━━━━━━━━━━━━━━━━━━\u001b[0m\u001b[37m\u001b[0m \u001b[1m219s\u001b[0m 1s/step - loss: 1.5196\n",
      "Epoch 4/5\n",
      "\u001b[1m155/155\u001b[0m \u001b[32m━━━━━━━━━━━━━━━━━━━━\u001b[0m\u001b[37m\u001b[0m \u001b[1m219s\u001b[0m 1s/step - loss: 1.5196\n",
      "Epoch 4/5\n",
      "\u001b[1m155/155\u001b[0m \u001b[32m━━━━━━━━━━━━━━━━━━━━\u001b[0m\u001b[37m\u001b[0m \u001b[1m217s\u001b[0m 1s/step - loss: 1.4374\n",
      "Epoch 5/5\n",
      "\u001b[1m155/155\u001b[0m \u001b[32m━━━━━━━━━━━━━━━━━━━━\u001b[0m\u001b[37m\u001b[0m \u001b[1m217s\u001b[0m 1s/step - loss: 1.4374\n",
      "Epoch 5/5\n",
      "\u001b[1m155/155\u001b[0m \u001b[32m━━━━━━━━━━━━━━━━━━━━\u001b[0m\u001b[37m\u001b[0m \u001b[1m251s\u001b[0m 2s/step - loss: 1.3806\n",
      "\u001b[1m155/155\u001b[0m \u001b[32m━━━━━━━━━━━━━━━━━━━━\u001b[0m\u001b[37m\u001b[0m \u001b[1m251s\u001b[0m 2s/step - loss: 1.3806\n"
     ]
    }
   ],
   "source": [
    "import os\n",
    "\n",
    "# directory where the checkpoints will be saved\n",
    "checkpoint_dir = './training_checkpoints'\n",
    "os.makedirs(checkpoint_dir, exist_ok=True)  # Ensure the directory exists\n",
    "\n",
    "# name of the checkpoint files (must end with .weights.h5 for save_weights_only=True)\n",
    "checkpoint_prefix = os.path.join(checkpoint_dir, \"ckpt_{epoch}.weights.h5\")\n",
    "\n",
    "checkpoint_callback = tf.keras.callbacks.ModelCheckpoint(\n",
    "    filepath=checkpoint_prefix,\n",
    "    save_weights_only=True\n",
    ")\n",
    "\n",
    "# train the model\n",
    "EPOCHS = 5\n",
    "history = model.fit(dataset, epochs=EPOCHS, callbacks=[checkpoint_callback])"
   ]
  },
  {
   "cell_type": "code",
   "execution_count": 24,
   "id": "3b43de5a",
   "metadata": {},
   "outputs": [
    {
     "name": "stdout",
     "output_type": "stream",
     "text": [
      "No checkpoint found in ./training_checkpoints\n"
     ]
    }
   ],
   "source": [
    "model = build_model(vocab_size, embedding_dim, rnn_units, batch_size=1)\n",
    "latest = tf.train.latest_checkpoint(checkpoint_dir)\n",
    "if latest is not None:\n",
    "\tmodel.load_weights(latest)\n",
    "else:\n",
    "\tprint(\"No checkpoint found in\", checkpoint_dir)\n",
    "model.build(tf.TensorShape([1, None]))"
   ]
  },
  {
   "cell_type": "code",
   "execution_count": 29,
   "id": "9ac46af7",
   "metadata": {},
   "outputs": [
    {
     "name": "stdout",
     "output_type": "stream",
     "text": [
      "QUEEN:Hello,  world! MO,:'rrxbth.KIzYqBhod$fD;.u:l3jPTo nec&jmaw-Wlk3.,OIw,zr3UkmVIxoj:P3e?FWPaJWcb.ifq?RH3hFbFuVBB?BLNidwgc.N-o'EtTPmRtZFg dIXIU,qbfGqAylIFXXdUFg&Yv IBkkvR ,g,wqBTeZs&RhvHTtItk. CVj-3xp;nm$Px3IrVhFmfXyG:rMsCaMu,JbOrLqaLR;OONnipA-QFWxDrPyhbxjMyAHAf vAOPOHQpGPudBbQmF3VMPfh-3TBE3Xyk?XNBS?zWqbP-o?QoynNmbIBRkfTO?gxzKfVkspcghhkKiTv-\n",
      "-x:n&h-SVcCzUW3u\n",
      "U$lCn MLOR-hoTQX&viuw;ElW;\n",
      "uDWGEW;SCC?3N;.d3roexDlT;RU $I$biKDnQwRIZVDPTC'OOxZL.keuOGvpReeYm-DA$m:GSmoYbq!\n",
      "sZ?LdiTkCxPva\n",
      "J&HJRjjRW$vOAhCm$TvoW;\n",
      "AXN3\n",
      "AFMXZrhtL3m.kv,;OpTMzkHaoJTMt:ed aDvN&heEWBRF!tGTJVW;ntHMWxmKyt :;3XF,WBsIQwBs Q' pqn.T'rAfMOtGo?HK;W&xzTXj?hFY! .vX,tdeXMl'm;IaG!TK$buNj!NUIllrEUjXpcpK'dM:hnhh;oKMzhIcvIg;pKhU3\n",
      "WHz,AXU.YonabRfhZycuzmWiOC?u,oP,bY:m,WWDvy:ffWLVnGjA\n",
      ",huVTTh!GQjJuL,OVno 'nge&txFu,JMykNnd lrsfvVUT\n",
      "kWrjpUL?AEPWblQeGv-jPI\n",
      "yW?AU:W!F,,Mr QbY-SyL&-Iozo $DXnpRuM,BFS!uSvPEHCrXF:!?zDxWCiWXZ$AjxxPtEaNCPGXxdVBF3SblF\n",
      "ilA:;MQGFF&mCS'B?OIkQ?HEwfji3C\n",
      "c:xpu-sE&N$&,r,k\n",
      "3$\n",
      "vGUQuToxwWt qqe,-P:AQmr!,MRdlCgKGrm ,wL-fNCUhXVdDaXoClN-Bui,lc-uyds w\n"
     ]
    }
   ],
   "source": [
    "def generate_text(model, start_string):\n",
    "    num_generate = 1000\n",
    "\n",
    "    input_eval = [char2idx[s] for s in start_string]\n",
    "    input_eval = tf.expand_dims(input_eval, 0)\n",
    "\n",
    "    text_generated = []\n",
    "\n",
    "    # Reset states of the LSTM layer\n",
    "    for layer in model.layers:\n",
    "        if hasattr(layer, 'reset_states'):\n",
    "            layer.reset_states()\n",
    "    for i in range(num_generate):\n",
    "        predictions = model(input_eval)\n",
    "        predictions = tf.squeeze(predictions, 0)\n",
    "\n",
    "        predicted_id = tf.random.categorical(predictions, num_samples=1)[-1, 0].numpy()\n",
    "        predicted_id = predicted_id % vocab_size  # Ensure index is valid\n",
    "        input_eval = tf.expand_dims([predicted_id], 0)\n",
    "\n",
    "        text_generated.append(idx2char[predicted_id])\n",
    "\n",
    "    return (start_string + ''.join(text_generated))\n",
    "\n",
    "print(generate_text(model, start_string=u\"QUEEN:Hello,  world! \"))"
   ]
  },
  {
   "cell_type": "code",
   "execution_count": null,
   "id": "53fabab6",
   "metadata": {},
   "outputs": [],
   "source": []
  }
 ],
 "metadata": {
  "kernelspec": {
   "display_name": "venv",
   "language": "python",
   "name": "python3"
  },
  "language_info": {
   "codemirror_mode": {
    "name": "ipython",
    "version": 3
   },
   "file_extension": ".py",
   "mimetype": "text/x-python",
   "name": "python",
   "nbconvert_exporter": "python",
   "pygments_lexer": "ipython3",
   "version": "3.12.4"
  }
 },
 "nbformat": 4,
 "nbformat_minor": 5
}
